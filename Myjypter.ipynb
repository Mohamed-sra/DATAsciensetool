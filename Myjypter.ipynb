{
  "nbformat": 4,
  "nbformat_minor": 0,
  "metadata": {
    "colab": {
      "name": "Untitled3.ipynb",
      "provenance": [],
      "collapsed_sections": []
    },
    "kernelspec": {
      "name": "python3",
      "display_name": "Python 3"
    },
    "language_info": {
      "name": "python"
    }
  },
  "cells": [
    {
      "cell_type": "markdown",
      "source": [
        "My Jupyter Notebook on IBM Watson Studio\n"
      ],
      "metadata": {
        "id": "SARmKgLUilBb"
      }
    },
    {
      "cell_type": "markdown",
      "source": [
        "**Mohamed**\n",
        "Data Scientiat\n",
        "\n",
        "*I am interested in data science because I would love to visualize data.*\n",
        "\n",
        "The below code should print number devided by an other number"
      ],
      "metadata": {
        "id": "N3jLd6yciwTx"
      }
    },
    {
      "cell_type": "code",
      "source": [
        "print(6/2)"
      ],
      "metadata": {
        "colab": {
          "base_uri": "https://localhost:8080/"
        },
        "id": "dzdjE500jBGD",
        "outputId": "293ed3cb-3743-462e-ed06-ad90011213fb"
      },
      "execution_count": null,
      "outputs": [
        {
          "output_type": "stream",
          "name": "stdout",
          "text": [
            "3.0\n"
          ]
        }
      ]
    },
    {
      "cell_type": "markdown",
      "source": [
        "Colons can be used to align columns.\n",
        "\n",
        "| Tables        | Are           | Cool  |\n",
        "| ------------- |:-------------:| -----:|\n",
        "| col 3 is      | right-aligned | $1600 |\n",
        "| col 2 is      | centered      |   $12 |\n",
        "| zebra stripes | are neat      |    $1 |\n",
        "\n",
        "There must be at least 3 dashes separating each header cell.\n",
        "The outer pipes (|) are optional, and you don't need to make the \n",
        "raw Markdown line up prettily. You can also use inline Markdown.\n",
        "\n",
        "Markdown | Less | Pretty\n",
        "--- | --- | ---\n",
        "*Still* | `renders` | **nicely**\n",
        "1 | 2 | 3"
      ],
      "metadata": {
        "id": "ifDSWDoACSRo"
      }
    }
  ]
}